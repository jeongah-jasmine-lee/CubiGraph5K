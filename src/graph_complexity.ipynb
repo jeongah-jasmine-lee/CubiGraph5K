{
 "cells": [
  {
   "cell_type": "code",
   "execution_count": 6,
   "metadata": {},
   "outputs": [],
   "source": [
    "import glob\n",
    "import re\n",
    "import ast\n",
    "import os\n",
    "import networkx as nx\n",
    "from collections import defaultdict\n",
    "\n",
    "def read_adjacency_from_file(path):\n",
    "    with open(path, 'r') as f:\n",
    "        content = f.read()\n",
    "    match = re.search(r\"Room Adjacency List:\\s*(\\{.*\\})\", content)\n",
    "    if not match:\n",
    "        raise ValueError(f\"Could not find 'Room Adjacency List' in {path}.\")\n",
    "    return ast.literal_eval(match.group(1))\n",
    "\n",
    "def build_graph(adjacency_dict):\n",
    "    G = nx.Graph()\n",
    "    for room, neighbors in adjacency_dict.items():\n",
    "        for nbr, w in neighbors.items():\n",
    "            G.add_edge(room, nbr, weight=w)\n",
    "    return G\n",
    "\n",
    "def largest_connected_subgraph(G):\n",
    "    if nx.is_connected(G):\n",
    "        return G\n",
    "    largest_cc = max(nx.connected_components(G), key=len)\n",
    "    return G.subgraph(largest_cc).copy()\n",
    "\n",
    "def compute_indices(G):\n",
    "    V = G.number_of_nodes()\n",
    "    E = G.number_of_edges()\n",
    "    EI = V + E\n",
    "    MI = (E - V + 1) / (2.0 * V - 5) if (2 * V - 5) > 0 else 0.0\n",
    "    H = largest_connected_subgraph(G)\n",
    "    ASPLI = nx.average_shortest_path_length(H, weight='weight')\n",
    "    return EI, MI, ASPLI\n",
    "\n",
    "def compute_difficulty(ei, mi, aspli,\n",
    "                       ei_min, ei_max,\n",
    "                       mi_min, mi_max,\n",
    "                       aspli_min, aspli_max):\n",
    "    def safe_norm(x, xmin, xmax):\n",
    "        return 0.0 if xmax == xmin else (x - xmin) / (xmax - xmin)\n",
    "    EI_n    = safe_norm(ei,    ei_min,    ei_max)\n",
    "    MI_n    = safe_norm(mi,    mi_min,    mi_max)\n",
    "    ASPLI_n = safe_norm(aspli, aspli_min, aspli_max)\n",
    "    D = (EI_n + MI_n + ASPLI_n) / 3.0\n",
    "    if D < 0.33:\n",
    "        label = \"easy\"\n",
    "    elif D < 0.66:\n",
    "        label = \"medium\"\n",
    "    else:\n",
    "        label = \"hard\"\n",
    "    return label, D\n"
   ]
  },
  {
   "cell_type": "code",
   "execution_count": 7,
   "metadata": {},
   "outputs": [],
   "source": [
    "def run(pattern, error_log_path, summary_file):\n",
    "    info_files = glob.glob(pattern)\n",
    "\n",
    "    file_indices = {}\n",
    "    open(error_log_path, 'w').close()\n",
    "\n",
    "    # First pass: compute graph metrics\n",
    "    for info_path in info_files:\n",
    "        try:\n",
    "            adj = read_adjacency_from_file(info_path)\n",
    "            G   = build_graph(adj)\n",
    "            file_indices[info_path] = compute_indices(G)\n",
    "        except Exception as e:\n",
    "            with open(error_log_path, 'a') as ef:\n",
    "                ef.write(f\"{os.path.dirname(info_path)} -> {e}\\n\")\n",
    "            continue\n",
    "\n",
    "    if not file_indices:\n",
    "        print(\"No valid graphs found. Exiting.\")\n",
    "        return\n",
    "\n",
    "    # Global min/max for normalization\n",
    "    all_EI    = [v[0] for v in file_indices.values()]\n",
    "    all_MI    = [v[1] for v in file_indices.values()]\n",
    "    all_ASPLI = [v[2] for v in file_indices.values()]\n",
    "    EI_min, EI_max       = min(all_EI),    max(all_EI)\n",
    "    MI_min, MI_max       = min(all_MI),    max(all_MI)\n",
    "    ASPLI_min, ASPLI_max = min(all_ASPLI), max(all_ASPLI)\n",
    "\n",
    "    difficulty_map   = defaultdict(list)   # difficulty -> list of (path, score)\n",
    "\n",
    "    # Second pass: compute difficulty and overwrite score in info.txt\n",
    "    for path, (ei, mi, aspli) in file_indices.items():\n",
    "        diff, score = compute_difficulty(\n",
    "            ei, mi, aspli,\n",
    "            EI_min, EI_max,\n",
    "            MI_min, MI_max,\n",
    "            ASPLI_min, ASPLI_max\n",
    "        )\n",
    "        difficulty_map[diff].append((path, score))\n",
    "\n",
    "        # Clean up old entries if exist\n",
    "        with open(path, 'r', encoding='utf-8') as f:\n",
    "            content = f.read()\n",
    "        content = re.sub(r\"(?m)^score:.*\\n?\", \"\", content)\n",
    "        content = re.sub(r\"(?m)^Graph difficulty:.*\\n?\", \"\", content)\n",
    "        content = re.sub(r\"(?m)^Raw Indices:.*\\n?\", \"\", content)\n",
    "\n",
    "        # Append new info\n",
    "        with open(path, 'w', encoding='utf-8') as f:\n",
    "            f.write(content.strip() + \"\\n\")\n",
    "            f.write(f\"Raw Indices: EI={ei}, MI={mi:.4f}, ASPLI={aspli:.4f}\\n\")\n",
    "            f.write(f\"score:  {score:.6f}\\n\")\n",
    "            f.write(f\"Graph difficulty: {diff}\\n\\n\")\n",
    "\n",
    "    # Write summary file\n",
    "    with open(summary_file, 'w') as sf:\n",
    "        sf.write(\"Summary of all floorplans by difficulty:\\n\\n\")\n",
    "        for label in [\"easy\", \"medium\", \"hard\"]:\n",
    "            entries = sorted(difficulty_map.get(label, []), key=lambda x: x[1])\n",
    "            sf.write(f\"{label}: {len(entries)} file(s)\\n\")\n",
    "            for path, score in entries:\n",
    "                sf.write(f\"   {path}  (score: {score:.6f})\\n\")\n",
    "            sf.write(\"\\n\")\n",
    "\n",
    "    print(f\"\\n✅ Wrote summary to: {summary_file}\")\n",
    "    print(f\"⚠️ Errors (if any) are in: {error_log_path}\")"
   ]
  },
  {
   "cell_type": "markdown",
   "metadata": {},
   "source": [
    "# Run"
   ]
  },
  {
   "cell_type": "code",
   "execution_count": 17,
   "metadata": {},
   "outputs": [
    {
     "name": "stdout",
     "output_type": "stream",
     "text": [
      "\n",
      "✅ Wrote summary to: ./graph_complexity_info_662.txt\n",
      "⚠️ Errors (if any) are in: ./error-662.txt\n"
     ]
    }
   ],
   "source": [
    "pattern = '../cubicasa5k-662/*/*/info.txt'\n",
    "error_log_path = \"./error-662.txt\"\n",
    "summary_file = \"./graph_complexity_info_662.txt\"\n",
    "run(pattern, error_log_path, summary_file)"
   ]
  },
  {
   "cell_type": "code",
   "execution_count": 18,
   "metadata": {},
   "outputs": [
    {
     "name": "stdout",
     "output_type": "stream",
     "text": [
      "\n",
      "✅ Wrote summary to: ./graph_complexity_info_3493.txt\n",
      "⚠️ Errors (if any) are in: ./error-3493.txt\n"
     ]
    }
   ],
   "source": [
    "pattern = '../cubicasa5k-3493-cubigraph/*/*/info.txt'\n",
    "error_log_path = \"./error-3493.txt\"\n",
    "summary_file = \"./graph_complexity_info_3493.txt\"\n",
    "run(pattern, error_log_path, summary_file)"
   ]
  },
  {
   "cell_type": "code",
   "execution_count": 19,
   "metadata": {},
   "outputs": [
    {
     "name": "stdout",
     "output_type": "stream",
     "text": [
      "\n",
      "✅ Wrote summary to: ./graph_complexity_info_4538.txt\n",
      "⚠️ Errors (if any) are in: ./error-4538.txt\n"
     ]
    }
   ],
   "source": [
    "pattern = '../cubicasa5k-4853/*/*/info.txt'\n",
    "error_log_path = \"./error-4538.txt\"\n",
    "summary_file = \"./graph_complexity_info_4538.txt\"\n",
    "run(pattern, error_log_path, summary_file)"
   ]
  },
  {
   "cell_type": "code",
   "execution_count": 20,
   "metadata": {},
   "outputs": [
    {
     "name": "stdout",
     "output_type": "stream",
     "text": [
      "\n",
      "✅ Wrote summary to: ./graph_complexity_info_69.txt\n",
      "⚠️ Errors (if any) are in: ./error-69.txt\n"
     ]
    }
   ],
   "source": [
    "pattern = '../cubicasa5k-69/*/*/info.txt'\n",
    "error_log_path = \"./error-69.txt\"\n",
    "summary_file = \"./graph_complexity_info_69.txt\"\n",
    "run(pattern, error_log_path, summary_file)"
   ]
  },
  {
   "cell_type": "code",
   "execution_count": 21,
   "metadata": {},
   "outputs": [
    {
     "name": "stdout",
     "output_type": "stream",
     "text": [
      "No valid graphs found. Exiting.\n"
     ]
    }
   ],
   "source": [
    "pattern = '../cubicasa5k-114/*/*/info.txt'\n",
    "error_log_path = \"./error-114.txt\"\n",
    "summary_file = \"./graph_complexity_info_114.txt\"\n",
    "run(pattern, error_log_path, summary_file)"
   ]
  },
  {
   "cell_type": "code",
   "execution_count": null,
   "metadata": {},
   "outputs": [],
   "source": []
  }
 ],
 "metadata": {
  "kernelspec": {
   "display_name": "floorplan",
   "language": "python",
   "name": "python3"
  },
  "language_info": {
   "codemirror_mode": {
    "name": "ipython",
    "version": 3
   },
   "file_extension": ".py",
   "mimetype": "text/x-python",
   "name": "python",
   "nbconvert_exporter": "python",
   "pygments_lexer": "ipython3",
   "version": "3.8.20"
  }
 },
 "nbformat": 4,
 "nbformat_minor": 2
}
