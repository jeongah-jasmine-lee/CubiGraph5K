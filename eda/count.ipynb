{
 "cells": [
  {
   "cell_type": "code",
   "execution_count": 1,
   "metadata": {},
   "outputs": [
    {
     "name": "stdout",
     "output_type": "stream",
     "text": [
      "[colorful] 하위 폴더 수: 199, info.txt 있는 폴더 수: 199\n",
      "199\n",
      "199\n",
      "[high_quality] 하위 폴더 수: 709, info.txt 있는 폴더 수: 709\n",
      "908\n",
      "908\n",
      "[high_quality_architectural] 하위 폴더 수: 2585, info.txt 있는 폴더 수: 2585\n",
      "3493\n",
      "3493\n"
     ]
    }
   ],
   "source": [
    "import os\n",
    "\n",
    "BASE_DIR= \"/Users/jeongahlee/Documents/github folder/CubiGraph5K/cubicasa5k-3493-cubigraph\"\n",
    "CATEGORIES = [\"colorful\", \"high_quality\", \"high_quality_architectural\"]\n",
    "\n",
    "\n",
    "def count_subfolders_and_info(base_dir, category, total_num, info_num):\n",
    "    cat_path = os.path.join(base_dir, category)\n",
    "    if not os.path.isdir(cat_path):\n",
    "        print(f\"[{category}] 경로가 없습니다.\")\n",
    "        return\n",
    "\n",
    "    subdirs = [\n",
    "        name for name in os.listdir(cat_path)\n",
    "        if os.path.isdir(os.path.join(cat_path, name))\n",
    "    ]\n",
    "    total = len(subdirs)\n",
    "\n",
    "    info_count = 0\n",
    "    for sub in subdirs:\n",
    "        info_path = os.path.join(cat_path, sub, \"info.txt\")\n",
    "        if os.path.isfile(info_path):\n",
    "            info_count += 1\n",
    "            info_num += 1\n",
    "\n",
    "    print(f\"[{category}] 하위 폴더 수: {total}, info.txt 있는 폴더 수: {info_count}\")\n",
    "    total_num += total\n",
    "    return total_num, info_num\n",
    "\n",
    "def main():\n",
    "    total_num = 0\n",
    "    info_num = 0\n",
    "    for cat in CATEGORIES:\n",
    "        total_num, info_num = count_subfolders_and_info(BASE_DIR, cat, total_num, info_num)\n",
    "        print(total_num)\n",
    "        print(info_num)\n",
    "\n",
    "if __name__ == \"__main__\":\n",
    "    main()"
   ]
  },
  {
   "cell_type": "code",
   "execution_count": 1,
   "metadata": {},
   "outputs": [
    {
     "name": "stdout",
     "output_type": "stream",
     "text": [
      "[easy/colorful] 하위 폴더 수: 3, info.txt 있는 폴더 수: 3\n",
      "[easy/high_quality] 하위 폴더 수: 5, info.txt 있는 폴더 수: 5\n",
      "[easy/high_quality_architectural] 하위 폴더 수: 11, info.txt 있는 폴더 수: 11\n",
      "[medium/colorful] 하위 폴더 수: 13, info.txt 있는 폴더 수: 13\n",
      "[medium/high_quality] 하위 폴더 수: 10, info.txt 있는 폴더 수: 10\n",
      "[medium/high_quality_architectural] 하위 폴더 수: 17, info.txt 있는 폴더 수: 17\n",
      "\n",
      "총 하위 폴더 수: 59\n",
      "총 info.txt 포함된 폴더 수: 59\n"
     ]
    }
   ],
   "source": [
    "import os\n",
    "\n",
    "BASE_DIR = \"../cubicasa5k-sample-69-with-hard\"\n",
    "CATEGORY_1 = [\"easy\", \"medium\"]\n",
    "CATEGORIES = [\"colorful\", \"high_quality\", \"high_quality_architectural\"]\n",
    "\n",
    "def count_subfolders_and_info(base_dir, level1, level2, total_num, info_num):\n",
    "    cat_path = os.path.join(base_dir + \"/\" + level1, level2)\n",
    "    if not os.path.isdir(cat_path):\n",
    "        print(\"cat_path:\", cat_path)\n",
    "        print(f\"[{level1}/{level2}] 경로가 없습니다.\")\n",
    "        return total_num, info_num\n",
    "\n",
    "    subdirs = [\n",
    "        name for name in os.listdir(cat_path)\n",
    "        if os.path.isdir(os.path.join(cat_path, name))\n",
    "    ]\n",
    "    total = len(subdirs)\n",
    "\n",
    "    info_count = 0\n",
    "    for sub in subdirs:\n",
    "        info_path = os.path.join(cat_path, sub, \"info.txt\")\n",
    "        if os.path.isfile(info_path):\n",
    "            info_count += 1\n",
    "            info_num += 1\n",
    "\n",
    "    print(f\"[{level1}/{level2}] 하위 폴더 수: {total}, info.txt 있는 폴더 수: {info_count}\")\n",
    "    total_num += total\n",
    "    return total_num, info_num\n",
    "\n",
    "def main():\n",
    "    total_num = 0\n",
    "    info_num = 0\n",
    "    for level1 in CATEGORY_1:\n",
    "        for level2 in CATEGORIES:\n",
    "            total_num, info_num = count_subfolders_and_info(BASE_DIR, level1, level2, total_num, info_num)\n",
    "\n",
    "    print(f\"\\n총 하위 폴더 수: {total_num}\")\n",
    "    print(f\"총 info.txt 포함된 폴더 수: {info_num}\")\n",
    "\n",
    "if __name__ == \"__main__\":\n",
    "    main()\n"
   ]
  },
  {
   "cell_type": "markdown",
   "metadata": {},
   "source": [
    "[colorful] 하위 폴더 수: 199, info.txt 있는 폴더 수: 199\n",
    "199\n",
    "[high_quality] 하위 폴더 수: 709, info.txt 있는 폴더 수: 709\n",
    "908\n",
    "[high_quality_architectural] 하위 폴더 수: 2585, info.txt 있는 폴더 수: 2585\n",
    "3493"
   ]
  }
 ],
 "metadata": {
  "kernelspec": {
   "display_name": "floorplan",
   "language": "python",
   "name": "python3"
  },
  "language_info": {
   "codemirror_mode": {
    "name": "ipython",
    "version": 3
   },
   "file_extension": ".py",
   "mimetype": "text/x-python",
   "name": "python",
   "nbconvert_exporter": "python",
   "pygments_lexer": "ipython3",
   "version": "3.8.20"
  }
 },
 "nbformat": 4,
 "nbformat_minor": 2
}
